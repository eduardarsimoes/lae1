{
  "nbformat": 4,
  "nbformat_minor": 0,
  "metadata": {
    "colab": {
      "name": "Titanic_Sprint3_AutoML.ipynb",
      "provenance": [],
      "collapsed_sections": [],
      "include_colab_link": true
    },
    "kernelspec": {
      "name": "python3",
      "display_name": "Python 3"
    },
    "widgets": {
      "application/vnd.jupyter.widget-state+json": {
        "60390b426d944975bf240b779c83cc1b": {
          "model_module": "@jupyter-widgets/controls",
          "model_name": "HBoxModel",
          "state": {
            "_view_name": "HBoxView",
            "_dom_classes": [],
            "_model_name": "HBoxModel",
            "_view_module": "@jupyter-widgets/controls",
            "_model_module_version": "1.5.0",
            "_view_count": null,
            "_view_module_version": "1.5.0",
            "box_style": "",
            "layout": "IPY_MODEL_2da26c532f154f479c91ccc9dff9ca69",
            "_model_module": "@jupyter-widgets/controls",
            "children": [
              "IPY_MODEL_6b22213167634e0b8f1d6176728d5b11",
              "IPY_MODEL_a294f86eb58543759671f642fe7801d4",
              "IPY_MODEL_9fd82f1f65d1485b940ca196f48e9bea"
            ]
          }
        },
        "2da26c532f154f479c91ccc9dff9ca69": {
          "model_module": "@jupyter-widgets/base",
          "model_name": "LayoutModel",
          "state": {
            "_view_name": "LayoutView",
            "grid_template_rows": null,
            "right": null,
            "justify_content": null,
            "_view_module": "@jupyter-widgets/base",
            "overflow": null,
            "_model_module_version": "1.2.0",
            "_view_count": null,
            "flex_flow": null,
            "width": null,
            "min_width": null,
            "border": null,
            "align_items": null,
            "bottom": null,
            "_model_module": "@jupyter-widgets/base",
            "top": null,
            "grid_column": null,
            "overflow_y": null,
            "overflow_x": null,
            "grid_auto_flow": null,
            "grid_area": null,
            "grid_template_columns": null,
            "flex": null,
            "_model_name": "LayoutModel",
            "justify_items": null,
            "grid_row": null,
            "max_height": null,
            "align_content": null,
            "visibility": null,
            "align_self": null,
            "height": null,
            "min_height": null,
            "padding": null,
            "grid_auto_rows": null,
            "grid_gap": null,
            "max_width": null,
            "order": null,
            "_view_module_version": "1.2.0",
            "grid_template_areas": null,
            "object_position": null,
            "object_fit": null,
            "grid_auto_columns": null,
            "margin": null,
            "display": null,
            "left": null
          }
        },
        "6b22213167634e0b8f1d6176728d5b11": {
          "model_module": "@jupyter-widgets/controls",
          "model_name": "HTMLModel",
          "state": {
            "_view_name": "HTMLView",
            "style": "IPY_MODEL_dd815d15028e4be884b0c53f2ee2004c",
            "_dom_classes": [],
            "description": "",
            "_model_name": "HTMLModel",
            "placeholder": "​",
            "_view_module": "@jupyter-widgets/controls",
            "_model_module_version": "1.5.0",
            "value": "Summarize dataset: 100%",
            "_view_count": null,
            "_view_module_version": "1.5.0",
            "description_tooltip": null,
            "_model_module": "@jupyter-widgets/controls",
            "layout": "IPY_MODEL_66353074e7b341a2a52c1256343a4792"
          }
        },
        "a294f86eb58543759671f642fe7801d4": {
          "model_module": "@jupyter-widgets/controls",
          "model_name": "FloatProgressModel",
          "state": {
            "_view_name": "ProgressView",
            "style": "IPY_MODEL_9deb3b977e3f4b26bde3e09a58b5e3c8",
            "_dom_classes": [],
            "description": "",
            "_model_name": "FloatProgressModel",
            "bar_style": "success",
            "max": 20,
            "_view_module": "@jupyter-widgets/controls",
            "_model_module_version": "1.5.0",
            "value": 20,
            "_view_count": null,
            "_view_module_version": "1.5.0",
            "orientation": "horizontal",
            "min": 0,
            "description_tooltip": null,
            "_model_module": "@jupyter-widgets/controls",
            "layout": "IPY_MODEL_bd101994fb454b918aec80acccc7d9bd"
          }
        },
        "9fd82f1f65d1485b940ca196f48e9bea": {
          "model_module": "@jupyter-widgets/controls",
          "model_name": "HTMLModel",
          "state": {
            "_view_name": "HTMLView",
            "style": "IPY_MODEL_dda256cff0a14a969626d948a9558812",
            "_dom_classes": [],
            "description": "",
            "_model_name": "HTMLModel",
            "placeholder": "​",
            "_view_module": "@jupyter-widgets/controls",
            "_model_module_version": "1.5.0",
            "value": " 20/20 [00:03&lt;00:00,  4.22it/s, Completed]",
            "_view_count": null,
            "_view_module_version": "1.5.0",
            "description_tooltip": null,
            "_model_module": "@jupyter-widgets/controls",
            "layout": "IPY_MODEL_751903e2c9b54bda99b2743fb5f7ad15"
          }
        },
        "dd815d15028e4be884b0c53f2ee2004c": {
          "model_module": "@jupyter-widgets/controls",
          "model_name": "DescriptionStyleModel",
          "state": {
            "_view_name": "StyleView",
            "_model_name": "DescriptionStyleModel",
            "description_width": "",
            "_view_module": "@jupyter-widgets/base",
            "_model_module_version": "1.5.0",
            "_view_count": null,
            "_view_module_version": "1.2.0",
            "_model_module": "@jupyter-widgets/controls"
          }
        },
        "66353074e7b341a2a52c1256343a4792": {
          "model_module": "@jupyter-widgets/base",
          "model_name": "LayoutModel",
          "state": {
            "_view_name": "LayoutView",
            "grid_template_rows": null,
            "right": null,
            "justify_content": null,
            "_view_module": "@jupyter-widgets/base",
            "overflow": null,
            "_model_module_version": "1.2.0",
            "_view_count": null,
            "flex_flow": null,
            "width": null,
            "min_width": null,
            "border": null,
            "align_items": null,
            "bottom": null,
            "_model_module": "@jupyter-widgets/base",
            "top": null,
            "grid_column": null,
            "overflow_y": null,
            "overflow_x": null,
            "grid_auto_flow": null,
            "grid_area": null,
            "grid_template_columns": null,
            "flex": null,
            "_model_name": "LayoutModel",
            "justify_items": null,
            "grid_row": null,
            "max_height": null,
            "align_content": null,
            "visibility": null,
            "align_self": null,
            "height": null,
            "min_height": null,
            "padding": null,
            "grid_auto_rows": null,
            "grid_gap": null,
            "max_width": null,
            "order": null,
            "_view_module_version": "1.2.0",
            "grid_template_areas": null,
            "object_position": null,
            "object_fit": null,
            "grid_auto_columns": null,
            "margin": null,
            "display": null,
            "left": null
          }
        },
        "9deb3b977e3f4b26bde3e09a58b5e3c8": {
          "model_module": "@jupyter-widgets/controls",
          "model_name": "ProgressStyleModel",
          "state": {
            "_view_name": "StyleView",
            "_model_name": "ProgressStyleModel",
            "description_width": "",
            "_view_module": "@jupyter-widgets/base",
            "_model_module_version": "1.5.0",
            "_view_count": null,
            "_view_module_version": "1.2.0",
            "bar_color": null,
            "_model_module": "@jupyter-widgets/controls"
          }
        },
        "bd101994fb454b918aec80acccc7d9bd": {
          "model_module": "@jupyter-widgets/base",
          "model_name": "LayoutModel",
          "state": {
            "_view_name": "LayoutView",
            "grid_template_rows": null,
            "right": null,
            "justify_content": null,
            "_view_module": "@jupyter-widgets/base",
            "overflow": null,
            "_model_module_version": "1.2.0",
            "_view_count": null,
            "flex_flow": null,
            "width": null,
            "min_width": null,
            "border": null,
            "align_items": null,
            "bottom": null,
            "_model_module": "@jupyter-widgets/base",
            "top": null,
            "grid_column": null,
            "overflow_y": null,
            "overflow_x": null,
            "grid_auto_flow": null,
            "grid_area": null,
            "grid_template_columns": null,
            "flex": null,
            "_model_name": "LayoutModel",
            "justify_items": null,
            "grid_row": null,
            "max_height": null,
            "align_content": null,
            "visibility": null,
            "align_self": null,
            "height": null,
            "min_height": null,
            "padding": null,
            "grid_auto_rows": null,
            "grid_gap": null,
            "max_width": null,
            "order": null,
            "_view_module_version": "1.2.0",
            "grid_template_areas": null,
            "object_position": null,
            "object_fit": null,
            "grid_auto_columns": null,
            "margin": null,
            "display": null,
            "left": null
          }
        },
        "dda256cff0a14a969626d948a9558812": {
          "model_module": "@jupyter-widgets/controls",
          "model_name": "DescriptionStyleModel",
          "state": {
            "_view_name": "StyleView",
            "_model_name": "DescriptionStyleModel",
            "description_width": "",
            "_view_module": "@jupyter-widgets/base",
            "_model_module_version": "1.5.0",
            "_view_count": null,
            "_view_module_version": "1.2.0",
            "_model_module": "@jupyter-widgets/controls"
          }
        },
        "751903e2c9b54bda99b2743fb5f7ad15": {
          "model_module": "@jupyter-widgets/base",
          "model_name": "LayoutModel",
          "state": {
            "_view_name": "LayoutView",
            "grid_template_rows": null,
            "right": null,
            "justify_content": null,
            "_view_module": "@jupyter-widgets/base",
            "overflow": null,
            "_model_module_version": "1.2.0",
            "_view_count": null,
            "flex_flow": null,
            "width": null,
            "min_width": null,
            "border": null,
            "align_items": null,
            "bottom": null,
            "_model_module": "@jupyter-widgets/base",
            "top": null,
            "grid_column": null,
            "overflow_y": null,
            "overflow_x": null,
            "grid_auto_flow": null,
            "grid_area": null,
            "grid_template_columns": null,
            "flex": null,
            "_model_name": "LayoutModel",
            "justify_items": null,
            "grid_row": null,
            "max_height": null,
            "align_content": null,
            "visibility": null,
            "align_self": null,
            "height": null,
            "min_height": null,
            "padding": null,
            "grid_auto_rows": null,
            "grid_gap": null,
            "max_width": null,
            "order": null,
            "_view_module_version": "1.2.0",
            "grid_template_areas": null,
            "object_position": null,
            "object_fit": null,
            "grid_auto_columns": null,
            "margin": null,
            "display": null,
            "left": null
          }
        },
        "b88ce6a7d712498888df0a9ecf2d48d4": {
          "model_module": "@jupyter-widgets/controls",
          "model_name": "HBoxModel",
          "state": {
            "_view_name": "HBoxView",
            "_dom_classes": [],
            "_model_name": "HBoxModel",
            "_view_module": "@jupyter-widgets/controls",
            "_model_module_version": "1.5.0",
            "_view_count": null,
            "_view_module_version": "1.5.0",
            "box_style": "",
            "layout": "IPY_MODEL_ad215d6d475b41fdbd32d384455a1a47",
            "_model_module": "@jupyter-widgets/controls",
            "children": [
              "IPY_MODEL_ea620195838843168d677304691f99e3",
              "IPY_MODEL_77486b0439bf4924a08f5bd18ab639d3",
              "IPY_MODEL_e58d5dddde44469b9fc2867e9a140adf"
            ]
          }
        },
        "ad215d6d475b41fdbd32d384455a1a47": {
          "model_module": "@jupyter-widgets/base",
          "model_name": "LayoutModel",
          "state": {
            "_view_name": "LayoutView",
            "grid_template_rows": null,
            "right": null,
            "justify_content": null,
            "_view_module": "@jupyter-widgets/base",
            "overflow": null,
            "_model_module_version": "1.2.0",
            "_view_count": null,
            "flex_flow": null,
            "width": null,
            "min_width": null,
            "border": null,
            "align_items": null,
            "bottom": null,
            "_model_module": "@jupyter-widgets/base",
            "top": null,
            "grid_column": null,
            "overflow_y": null,
            "overflow_x": null,
            "grid_auto_flow": null,
            "grid_area": null,
            "grid_template_columns": null,
            "flex": null,
            "_model_name": "LayoutModel",
            "justify_items": null,
            "grid_row": null,
            "max_height": null,
            "align_content": null,
            "visibility": null,
            "align_self": null,
            "height": null,
            "min_height": null,
            "padding": null,
            "grid_auto_rows": null,
            "grid_gap": null,
            "max_width": null,
            "order": null,
            "_view_module_version": "1.2.0",
            "grid_template_areas": null,
            "object_position": null,
            "object_fit": null,
            "grid_auto_columns": null,
            "margin": null,
            "display": null,
            "left": null
          }
        },
        "ea620195838843168d677304691f99e3": {
          "model_module": "@jupyter-widgets/controls",
          "model_name": "HTMLModel",
          "state": {
            "_view_name": "HTMLView",
            "style": "IPY_MODEL_e2a95c6bfaab4d1891612db49060f2d0",
            "_dom_classes": [],
            "description": "",
            "_model_name": "HTMLModel",
            "placeholder": "​",
            "_view_module": "@jupyter-widgets/controls",
            "_model_module_version": "1.5.0",
            "value": "Generate report structure: 100%",
            "_view_count": null,
            "_view_module_version": "1.5.0",
            "description_tooltip": null,
            "_model_module": "@jupyter-widgets/controls",
            "layout": "IPY_MODEL_fe32d6181238428ebf3a12defddcae6d"
          }
        },
        "77486b0439bf4924a08f5bd18ab639d3": {
          "model_module": "@jupyter-widgets/controls",
          "model_name": "FloatProgressModel",
          "state": {
            "_view_name": "ProgressView",
            "style": "IPY_MODEL_84d8b55114e24684b49f9b2e5d9a9e8e",
            "_dom_classes": [],
            "description": "",
            "_model_name": "FloatProgressModel",
            "bar_style": "success",
            "max": 1,
            "_view_module": "@jupyter-widgets/controls",
            "_model_module_version": "1.5.0",
            "value": 1,
            "_view_count": null,
            "_view_module_version": "1.5.0",
            "orientation": "horizontal",
            "min": 0,
            "description_tooltip": null,
            "_model_module": "@jupyter-widgets/controls",
            "layout": "IPY_MODEL_a55f45a23c504325b31a7369e0925022"
          }
        },
        "e58d5dddde44469b9fc2867e9a140adf": {
          "model_module": "@jupyter-widgets/controls",
          "model_name": "HTMLModel",
          "state": {
            "_view_name": "HTMLView",
            "style": "IPY_MODEL_e66868a3666d40d18534593d962c5034",
            "_dom_classes": [],
            "description": "",
            "_model_name": "HTMLModel",
            "placeholder": "​",
            "_view_module": "@jupyter-widgets/controls",
            "_model_module_version": "1.5.0",
            "value": " 1/1 [00:04&lt;00:00,  4.66s/it]",
            "_view_count": null,
            "_view_module_version": "1.5.0",
            "description_tooltip": null,
            "_model_module": "@jupyter-widgets/controls",
            "layout": "IPY_MODEL_84a955fdcb264780a1645bfec820ec4a"
          }
        },
        "e2a95c6bfaab4d1891612db49060f2d0": {
          "model_module": "@jupyter-widgets/controls",
          "model_name": "DescriptionStyleModel",
          "state": {
            "_view_name": "StyleView",
            "_model_name": "DescriptionStyleModel",
            "description_width": "",
            "_view_module": "@jupyter-widgets/base",
            "_model_module_version": "1.5.0",
            "_view_count": null,
            "_view_module_version": "1.2.0",
            "_model_module": "@jupyter-widgets/controls"
          }
        },
        "fe32d6181238428ebf3a12defddcae6d": {
          "model_module": "@jupyter-widgets/base",
          "model_name": "LayoutModel",
          "state": {
            "_view_name": "LayoutView",
            "grid_template_rows": null,
            "right": null,
            "justify_content": null,
            "_view_module": "@jupyter-widgets/base",
            "overflow": null,
            "_model_module_version": "1.2.0",
            "_view_count": null,
            "flex_flow": null,
            "width": null,
            "min_width": null,
            "border": null,
            "align_items": null,
            "bottom": null,
            "_model_module": "@jupyter-widgets/base",
            "top": null,
            "grid_column": null,
            "overflow_y": null,
            "overflow_x": null,
            "grid_auto_flow": null,
            "grid_area": null,
            "grid_template_columns": null,
            "flex": null,
            "_model_name": "LayoutModel",
            "justify_items": null,
            "grid_row": null,
            "max_height": null,
            "align_content": null,
            "visibility": null,
            "align_self": null,
            "height": null,
            "min_height": null,
            "padding": null,
            "grid_auto_rows": null,
            "grid_gap": null,
            "max_width": null,
            "order": null,
            "_view_module_version": "1.2.0",
            "grid_template_areas": null,
            "object_position": null,
            "object_fit": null,
            "grid_auto_columns": null,
            "margin": null,
            "display": null,
            "left": null
          }
        },
        "84d8b55114e24684b49f9b2e5d9a9e8e": {
          "model_module": "@jupyter-widgets/controls",
          "model_name": "ProgressStyleModel",
          "state": {
            "_view_name": "StyleView",
            "_model_name": "ProgressStyleModel",
            "description_width": "",
            "_view_module": "@jupyter-widgets/base",
            "_model_module_version": "1.5.0",
            "_view_count": null,
            "_view_module_version": "1.2.0",
            "bar_color": null,
            "_model_module": "@jupyter-widgets/controls"
          }
        },
        "a55f45a23c504325b31a7369e0925022": {
          "model_module": "@jupyter-widgets/base",
          "model_name": "LayoutModel",
          "state": {
            "_view_name": "LayoutView",
            "grid_template_rows": null,
            "right": null,
            "justify_content": null,
            "_view_module": "@jupyter-widgets/base",
            "overflow": null,
            "_model_module_version": "1.2.0",
            "_view_count": null,
            "flex_flow": null,
            "width": null,
            "min_width": null,
            "border": null,
            "align_items": null,
            "bottom": null,
            "_model_module": "@jupyter-widgets/base",
            "top": null,
            "grid_column": null,
            "overflow_y": null,
            "overflow_x": null,
            "grid_auto_flow": null,
            "grid_area": null,
            "grid_template_columns": null,
            "flex": null,
            "_model_name": "LayoutModel",
            "justify_items": null,
            "grid_row": null,
            "max_height": null,
            "align_content": null,
            "visibility": null,
            "align_self": null,
            "height": null,
            "min_height": null,
            "padding": null,
            "grid_auto_rows": null,
            "grid_gap": null,
            "max_width": null,
            "order": null,
            "_view_module_version": "1.2.0",
            "grid_template_areas": null,
            "object_position": null,
            "object_fit": null,
            "grid_auto_columns": null,
            "margin": null,
            "display": null,
            "left": null
          }
        },
        "e66868a3666d40d18534593d962c5034": {
          "model_module": "@jupyter-widgets/controls",
          "model_name": "DescriptionStyleModel",
          "state": {
            "_view_name": "StyleView",
            "_model_name": "DescriptionStyleModel",
            "description_width": "",
            "_view_module": "@jupyter-widgets/base",
            "_model_module_version": "1.5.0",
            "_view_count": null,
            "_view_module_version": "1.2.0",
            "_model_module": "@jupyter-widgets/controls"
          }
        },
        "84a955fdcb264780a1645bfec820ec4a": {
          "model_module": "@jupyter-widgets/base",
          "model_name": "LayoutModel",
          "state": {
            "_view_name": "LayoutView",
            "grid_template_rows": null,
            "right": null,
            "justify_content": null,
            "_view_module": "@jupyter-widgets/base",
            "overflow": null,
            "_model_module_version": "1.2.0",
            "_view_count": null,
            "flex_flow": null,
            "width": null,
            "min_width": null,
            "border": null,
            "align_items": null,
            "bottom": null,
            "_model_module": "@jupyter-widgets/base",
            "top": null,
            "grid_column": null,
            "overflow_y": null,
            "overflow_x": null,
            "grid_auto_flow": null,
            "grid_area": null,
            "grid_template_columns": null,
            "flex": null,
            "_model_name": "LayoutModel",
            "justify_items": null,
            "grid_row": null,
            "max_height": null,
            "align_content": null,
            "visibility": null,
            "align_self": null,
            "height": null,
            "min_height": null,
            "padding": null,
            "grid_auto_rows": null,
            "grid_gap": null,
            "max_width": null,
            "order": null,
            "_view_module_version": "1.2.0",
            "grid_template_areas": null,
            "object_position": null,
            "object_fit": null,
            "grid_auto_columns": null,
            "margin": null,
            "display": null,
            "left": null
          }
        },
        "aff4679c0d06457fb403dde247a7eee7": {
          "model_module": "@jupyter-widgets/controls",
          "model_name": "HBoxModel",
          "state": {
            "_view_name": "HBoxView",
            "_dom_classes": [],
            "_model_name": "HBoxModel",
            "_view_module": "@jupyter-widgets/controls",
            "_model_module_version": "1.5.0",
            "_view_count": null,
            "_view_module_version": "1.5.0",
            "box_style": "",
            "layout": "IPY_MODEL_082e98a15c6044b5a622c4e21e6181d0",
            "_model_module": "@jupyter-widgets/controls",
            "children": [
              "IPY_MODEL_032db43069e54316b8e86c8f59b669ed",
              "IPY_MODEL_ba6be15f4145447486ad99995cd137fb",
              "IPY_MODEL_e059e904b2d0462196f36e9be4831f08"
            ]
          }
        },
        "082e98a15c6044b5a622c4e21e6181d0": {
          "model_module": "@jupyter-widgets/base",
          "model_name": "LayoutModel",
          "state": {
            "_view_name": "LayoutView",
            "grid_template_rows": null,
            "right": null,
            "justify_content": null,
            "_view_module": "@jupyter-widgets/base",
            "overflow": null,
            "_model_module_version": "1.2.0",
            "_view_count": null,
            "flex_flow": null,
            "width": null,
            "min_width": null,
            "border": null,
            "align_items": null,
            "bottom": null,
            "_model_module": "@jupyter-widgets/base",
            "top": null,
            "grid_column": null,
            "overflow_y": null,
            "overflow_x": null,
            "grid_auto_flow": null,
            "grid_area": null,
            "grid_template_columns": null,
            "flex": null,
            "_model_name": "LayoutModel",
            "justify_items": null,
            "grid_row": null,
            "max_height": null,
            "align_content": null,
            "visibility": null,
            "align_self": null,
            "height": null,
            "min_height": null,
            "padding": null,
            "grid_auto_rows": null,
            "grid_gap": null,
            "max_width": null,
            "order": null,
            "_view_module_version": "1.2.0",
            "grid_template_areas": null,
            "object_position": null,
            "object_fit": null,
            "grid_auto_columns": null,
            "margin": null,
            "display": null,
            "left": null
          }
        },
        "032db43069e54316b8e86c8f59b669ed": {
          "model_module": "@jupyter-widgets/controls",
          "model_name": "HTMLModel",
          "state": {
            "_view_name": "HTMLView",
            "style": "IPY_MODEL_1f47f6cbd7fc4d85a244fd4cdcf31fe2",
            "_dom_classes": [],
            "description": "",
            "_model_name": "HTMLModel",
            "placeholder": "​",
            "_view_module": "@jupyter-widgets/controls",
            "_model_module_version": "1.5.0",
            "value": "Render HTML: 100%",
            "_view_count": null,
            "_view_module_version": "1.5.0",
            "description_tooltip": null,
            "_model_module": "@jupyter-widgets/controls",
            "layout": "IPY_MODEL_a103b36aaa9e4f028a6f72854a73e8de"
          }
        },
        "ba6be15f4145447486ad99995cd137fb": {
          "model_module": "@jupyter-widgets/controls",
          "model_name": "FloatProgressModel",
          "state": {
            "_view_name": "ProgressView",
            "style": "IPY_MODEL_6c383b0c5fac4f468cd364c3179ef516",
            "_dom_classes": [],
            "description": "",
            "_model_name": "FloatProgressModel",
            "bar_style": "success",
            "max": 1,
            "_view_module": "@jupyter-widgets/controls",
            "_model_module_version": "1.5.0",
            "value": 1,
            "_view_count": null,
            "_view_module_version": "1.5.0",
            "orientation": "horizontal",
            "min": 0,
            "description_tooltip": null,
            "_model_module": "@jupyter-widgets/controls",
            "layout": "IPY_MODEL_30184bebee5945dbaa0f1145692f294e"
          }
        },
        "e059e904b2d0462196f36e9be4831f08": {
          "model_module": "@jupyter-widgets/controls",
          "model_name": "HTMLModel",
          "state": {
            "_view_name": "HTMLView",
            "style": "IPY_MODEL_ee29dedf703c4487a3597c380af1cdb8",
            "_dom_classes": [],
            "description": "",
            "_model_name": "HTMLModel",
            "placeholder": "​",
            "_view_module": "@jupyter-widgets/controls",
            "_model_module_version": "1.5.0",
            "value": " 1/1 [00:00&lt;00:00,  1.17it/s]",
            "_view_count": null,
            "_view_module_version": "1.5.0",
            "description_tooltip": null,
            "_model_module": "@jupyter-widgets/controls",
            "layout": "IPY_MODEL_da378fb119854464aa32c9c7d28767f3"
          }
        },
        "1f47f6cbd7fc4d85a244fd4cdcf31fe2": {
          "model_module": "@jupyter-widgets/controls",
          "model_name": "DescriptionStyleModel",
          "state": {
            "_view_name": "StyleView",
            "_model_name": "DescriptionStyleModel",
            "description_width": "",
            "_view_module": "@jupyter-widgets/base",
            "_model_module_version": "1.5.0",
            "_view_count": null,
            "_view_module_version": "1.2.0",
            "_model_module": "@jupyter-widgets/controls"
          }
        },
        "a103b36aaa9e4f028a6f72854a73e8de": {
          "model_module": "@jupyter-widgets/base",
          "model_name": "LayoutModel",
          "state": {
            "_view_name": "LayoutView",
            "grid_template_rows": null,
            "right": null,
            "justify_content": null,
            "_view_module": "@jupyter-widgets/base",
            "overflow": null,
            "_model_module_version": "1.2.0",
            "_view_count": null,
            "flex_flow": null,
            "width": null,
            "min_width": null,
            "border": null,
            "align_items": null,
            "bottom": null,
            "_model_module": "@jupyter-widgets/base",
            "top": null,
            "grid_column": null,
            "overflow_y": null,
            "overflow_x": null,
            "grid_auto_flow": null,
            "grid_area": null,
            "grid_template_columns": null,
            "flex": null,
            "_model_name": "LayoutModel",
            "justify_items": null,
            "grid_row": null,
            "max_height": null,
            "align_content": null,
            "visibility": null,
            "align_self": null,
            "height": null,
            "min_height": null,
            "padding": null,
            "grid_auto_rows": null,
            "grid_gap": null,
            "max_width": null,
            "order": null,
            "_view_module_version": "1.2.0",
            "grid_template_areas": null,
            "object_position": null,
            "object_fit": null,
            "grid_auto_columns": null,
            "margin": null,
            "display": null,
            "left": null
          }
        },
        "6c383b0c5fac4f468cd364c3179ef516": {
          "model_module": "@jupyter-widgets/controls",
          "model_name": "ProgressStyleModel",
          "state": {
            "_view_name": "StyleView",
            "_model_name": "ProgressStyleModel",
            "description_width": "",
            "_view_module": "@jupyter-widgets/base",
            "_model_module_version": "1.5.0",
            "_view_count": null,
            "_view_module_version": "1.2.0",
            "bar_color": null,
            "_model_module": "@jupyter-widgets/controls"
          }
        },
        "30184bebee5945dbaa0f1145692f294e": {
          "model_module": "@jupyter-widgets/base",
          "model_name": "LayoutModel",
          "state": {
            "_view_name": "LayoutView",
            "grid_template_rows": null,
            "right": null,
            "justify_content": null,
            "_view_module": "@jupyter-widgets/base",
            "overflow": null,
            "_model_module_version": "1.2.0",
            "_view_count": null,
            "flex_flow": null,
            "width": null,
            "min_width": null,
            "border": null,
            "align_items": null,
            "bottom": null,
            "_model_module": "@jupyter-widgets/base",
            "top": null,
            "grid_column": null,
            "overflow_y": null,
            "overflow_x": null,
            "grid_auto_flow": null,
            "grid_area": null,
            "grid_template_columns": null,
            "flex": null,
            "_model_name": "LayoutModel",
            "justify_items": null,
            "grid_row": null,
            "max_height": null,
            "align_content": null,
            "visibility": null,
            "align_self": null,
            "height": null,
            "min_height": null,
            "padding": null,
            "grid_auto_rows": null,
            "grid_gap": null,
            "max_width": null,
            "order": null,
            "_view_module_version": "1.2.0",
            "grid_template_areas": null,
            "object_position": null,
            "object_fit": null,
            "grid_auto_columns": null,
            "margin": null,
            "display": null,
            "left": null
          }
        },
        "ee29dedf703c4487a3597c380af1cdb8": {
          "model_module": "@jupyter-widgets/controls",
          "model_name": "DescriptionStyleModel",
          "state": {
            "_view_name": "StyleView",
            "_model_name": "DescriptionStyleModel",
            "description_width": "",
            "_view_module": "@jupyter-widgets/base",
            "_model_module_version": "1.5.0",
            "_view_count": null,
            "_view_module_version": "1.2.0",
            "_model_module": "@jupyter-widgets/controls"
          }
        },
        "da378fb119854464aa32c9c7d28767f3": {
          "model_module": "@jupyter-widgets/base",
          "model_name": "LayoutModel",
          "state": {
            "_view_name": "LayoutView",
            "grid_template_rows": null,
            "right": null,
            "justify_content": null,
            "_view_module": "@jupyter-widgets/base",
            "overflow": null,
            "_model_module_version": "1.2.0",
            "_view_count": null,
            "flex_flow": null,
            "width": null,
            "min_width": null,
            "border": null,
            "align_items": null,
            "bottom": null,
            "_model_module": "@jupyter-widgets/base",
            "top": null,
            "grid_column": null,
            "overflow_y": null,
            "overflow_x": null,
            "grid_auto_flow": null,
            "grid_area": null,
            "grid_template_columns": null,
            "flex": null,
            "_model_name": "LayoutModel",
            "justify_items": null,
            "grid_row": null,
            "max_height": null,
            "align_content": null,
            "visibility": null,
            "align_self": null,
            "height": null,
            "min_height": null,
            "padding": null,
            "grid_auto_rows": null,
            "grid_gap": null,
            "max_width": null,
            "order": null,
            "_view_module_version": "1.2.0",
            "grid_template_areas": null,
            "object_position": null,
            "object_fit": null,
            "grid_auto_columns": null,
            "margin": null,
            "display": null,
            "left": null
          }
        },
        "57a95f3ff43a410196cdcb02a811669f": {
          "model_module": "@jupyter-widgets/controls",
          "model_name": "HBoxModel",
          "state": {
            "_view_name": "HBoxView",
            "_dom_classes": [],
            "_model_name": "HBoxModel",
            "_view_module": "@jupyter-widgets/controls",
            "_model_module_version": "1.5.0",
            "_view_count": null,
            "_view_module_version": "1.5.0",
            "box_style": "",
            "layout": "IPY_MODEL_6370ce7d44a94713ab2562ce258f1b3c",
            "_model_module": "@jupyter-widgets/controls",
            "children": [
              "IPY_MODEL_57f33c94742e4a41811e69d6d88887e0",
              "IPY_MODEL_a0b27a2379384001bf320b4fd80a542e",
              "IPY_MODEL_ff73aa0210a34e71bbd6b251dde509a3"
            ]
          }
        },
        "6370ce7d44a94713ab2562ce258f1b3c": {
          "model_module": "@jupyter-widgets/base",
          "model_name": "LayoutModel",
          "state": {
            "_view_name": "LayoutView",
            "grid_template_rows": null,
            "right": null,
            "justify_content": null,
            "_view_module": "@jupyter-widgets/base",
            "overflow": null,
            "_model_module_version": "1.2.0",
            "_view_count": null,
            "flex_flow": null,
            "width": null,
            "min_width": null,
            "border": null,
            "align_items": null,
            "bottom": null,
            "_model_module": "@jupyter-widgets/base",
            "top": null,
            "grid_column": null,
            "overflow_y": null,
            "overflow_x": null,
            "grid_auto_flow": null,
            "grid_area": null,
            "grid_template_columns": null,
            "flex": null,
            "_model_name": "LayoutModel",
            "justify_items": null,
            "grid_row": null,
            "max_height": null,
            "align_content": null,
            "visibility": null,
            "align_self": null,
            "height": null,
            "min_height": null,
            "padding": null,
            "grid_auto_rows": null,
            "grid_gap": null,
            "max_width": null,
            "order": null,
            "_view_module_version": "1.2.0",
            "grid_template_areas": null,
            "object_position": null,
            "object_fit": null,
            "grid_auto_columns": null,
            "margin": null,
            "display": null,
            "left": null
          }
        },
        "57f33c94742e4a41811e69d6d88887e0": {
          "model_module": "@jupyter-widgets/controls",
          "model_name": "HTMLModel",
          "state": {
            "_view_name": "HTMLView",
            "style": "IPY_MODEL_59ea90f7c58140d4ac0909d328fc9070",
            "_dom_classes": [],
            "description": "",
            "_model_name": "HTMLModel",
            "placeholder": "​",
            "_view_module": "@jupyter-widgets/controls",
            "_model_module_version": "1.5.0",
            "value": "Export report to file: 100%",
            "_view_count": null,
            "_view_module_version": "1.5.0",
            "description_tooltip": null,
            "_model_module": "@jupyter-widgets/controls",
            "layout": "IPY_MODEL_2fbdd7670ded4ad0862725914d03d7be"
          }
        },
        "a0b27a2379384001bf320b4fd80a542e": {
          "model_module": "@jupyter-widgets/controls",
          "model_name": "FloatProgressModel",
          "state": {
            "_view_name": "ProgressView",
            "style": "IPY_MODEL_3f6e04c900fb47f38a76394ede0db5e4",
            "_dom_classes": [],
            "description": "",
            "_model_name": "FloatProgressModel",
            "bar_style": "success",
            "max": 1,
            "_view_module": "@jupyter-widgets/controls",
            "_model_module_version": "1.5.0",
            "value": 1,
            "_view_count": null,
            "_view_module_version": "1.5.0",
            "orientation": "horizontal",
            "min": 0,
            "description_tooltip": null,
            "_model_module": "@jupyter-widgets/controls",
            "layout": "IPY_MODEL_082c411aca5f4217b3baeb64890c1065"
          }
        },
        "ff73aa0210a34e71bbd6b251dde509a3": {
          "model_module": "@jupyter-widgets/controls",
          "model_name": "HTMLModel",
          "state": {
            "_view_name": "HTMLView",
            "style": "IPY_MODEL_214c7f2027de4e1eb850f1b3e7356663",
            "_dom_classes": [],
            "description": "",
            "_model_name": "HTMLModel",
            "placeholder": "​",
            "_view_module": "@jupyter-widgets/controls",
            "_model_module_version": "1.5.0",
            "value": " 1/1 [00:00&lt;00:00, 20.04it/s]",
            "_view_count": null,
            "_view_module_version": "1.5.0",
            "description_tooltip": null,
            "_model_module": "@jupyter-widgets/controls",
            "layout": "IPY_MODEL_1ac0da04e628457ba4ba0b0801300f37"
          }
        },
        "59ea90f7c58140d4ac0909d328fc9070": {
          "model_module": "@jupyter-widgets/controls",
          "model_name": "DescriptionStyleModel",
          "state": {
            "_view_name": "StyleView",
            "_model_name": "DescriptionStyleModel",
            "description_width": "",
            "_view_module": "@jupyter-widgets/base",
            "_model_module_version": "1.5.0",
            "_view_count": null,
            "_view_module_version": "1.2.0",
            "_model_module": "@jupyter-widgets/controls"
          }
        },
        "2fbdd7670ded4ad0862725914d03d7be": {
          "model_module": "@jupyter-widgets/base",
          "model_name": "LayoutModel",
          "state": {
            "_view_name": "LayoutView",
            "grid_template_rows": null,
            "right": null,
            "justify_content": null,
            "_view_module": "@jupyter-widgets/base",
            "overflow": null,
            "_model_module_version": "1.2.0",
            "_view_count": null,
            "flex_flow": null,
            "width": null,
            "min_width": null,
            "border": null,
            "align_items": null,
            "bottom": null,
            "_model_module": "@jupyter-widgets/base",
            "top": null,
            "grid_column": null,
            "overflow_y": null,
            "overflow_x": null,
            "grid_auto_flow": null,
            "grid_area": null,
            "grid_template_columns": null,
            "flex": null,
            "_model_name": "LayoutModel",
            "justify_items": null,
            "grid_row": null,
            "max_height": null,
            "align_content": null,
            "visibility": null,
            "align_self": null,
            "height": null,
            "min_height": null,
            "padding": null,
            "grid_auto_rows": null,
            "grid_gap": null,
            "max_width": null,
            "order": null,
            "_view_module_version": "1.2.0",
            "grid_template_areas": null,
            "object_position": null,
            "object_fit": null,
            "grid_auto_columns": null,
            "margin": null,
            "display": null,
            "left": null
          }
        },
        "3f6e04c900fb47f38a76394ede0db5e4": {
          "model_module": "@jupyter-widgets/controls",
          "model_name": "ProgressStyleModel",
          "state": {
            "_view_name": "StyleView",
            "_model_name": "ProgressStyleModel",
            "description_width": "",
            "_view_module": "@jupyter-widgets/base",
            "_model_module_version": "1.5.0",
            "_view_count": null,
            "_view_module_version": "1.2.0",
            "bar_color": null,
            "_model_module": "@jupyter-widgets/controls"
          }
        },
        "082c411aca5f4217b3baeb64890c1065": {
          "model_module": "@jupyter-widgets/base",
          "model_name": "LayoutModel",
          "state": {
            "_view_name": "LayoutView",
            "grid_template_rows": null,
            "right": null,
            "justify_content": null,
            "_view_module": "@jupyter-widgets/base",
            "overflow": null,
            "_model_module_version": "1.2.0",
            "_view_count": null,
            "flex_flow": null,
            "width": null,
            "min_width": null,
            "border": null,
            "align_items": null,
            "bottom": null,
            "_model_module": "@jupyter-widgets/base",
            "top": null,
            "grid_column": null,
            "overflow_y": null,
            "overflow_x": null,
            "grid_auto_flow": null,
            "grid_area": null,
            "grid_template_columns": null,
            "flex": null,
            "_model_name": "LayoutModel",
            "justify_items": null,
            "grid_row": null,
            "max_height": null,
            "align_content": null,
            "visibility": null,
            "align_self": null,
            "height": null,
            "min_height": null,
            "padding": null,
            "grid_auto_rows": null,
            "grid_gap": null,
            "max_width": null,
            "order": null,
            "_view_module_version": "1.2.0",
            "grid_template_areas": null,
            "object_position": null,
            "object_fit": null,
            "grid_auto_columns": null,
            "margin": null,
            "display": null,
            "left": null
          }
        },
        "214c7f2027de4e1eb850f1b3e7356663": {
          "model_module": "@jupyter-widgets/controls",
          "model_name": "DescriptionStyleModel",
          "state": {
            "_view_name": "StyleView",
            "_model_name": "DescriptionStyleModel",
            "description_width": "",
            "_view_module": "@jupyter-widgets/base",
            "_model_module_version": "1.5.0",
            "_view_count": null,
            "_view_module_version": "1.2.0",
            "_model_module": "@jupyter-widgets/controls"
          }
        },
        "1ac0da04e628457ba4ba0b0801300f37": {
          "model_module": "@jupyter-widgets/base",
          "model_name": "LayoutModel",
          "state": {
            "_view_name": "LayoutView",
            "grid_template_rows": null,
            "right": null,
            "justify_content": null,
            "_view_module": "@jupyter-widgets/base",
            "overflow": null,
            "_model_module_version": "1.2.0",
            "_view_count": null,
            "flex_flow": null,
            "width": null,
            "min_width": null,
            "border": null,
            "align_items": null,
            "bottom": null,
            "_model_module": "@jupyter-widgets/base",
            "top": null,
            "grid_column": null,
            "overflow_y": null,
            "overflow_x": null,
            "grid_auto_flow": null,
            "grid_area": null,
            "grid_template_columns": null,
            "flex": null,
            "_model_name": "LayoutModel",
            "justify_items": null,
            "grid_row": null,
            "max_height": null,
            "align_content": null,
            "visibility": null,
            "align_self": null,
            "height": null,
            "min_height": null,
            "padding": null,
            "grid_auto_rows": null,
            "grid_gap": null,
            "max_width": null,
            "order": null,
            "_view_module_version": "1.2.0",
            "grid_template_areas": null,
            "object_position": null,
            "object_fit": null,
            "grid_auto_columns": null,
            "margin": null,
            "display": null,
            "left": null
          }
        }
      }
    }
  },
  "cells": [
    {
      "cell_type": "markdown",
      "metadata": {
        "id": "view-in-github",
        "colab_type": "text"
      },
      "source": [
        "<a href=\"https://colab.research.google.com/github/eduardarsimoes/lae1/blob/main/Titanic/Titanic_Sprint3_AutoML.ipynb\" target=\"_parent\"><img src=\"https://colab.research.google.com/assets/colab-badge.svg\" alt=\"Open In Colab\"/></a>"
      ]
    },
    {
      "cell_type": "markdown",
      "metadata": {
        "id": "tbJ_4aYwENvD"
      },
      "source": [
        "# **DATASET TITANIC**\n",
        "---\n",
        "### **LAB. EXTENSÃO 2020/2 EAD** - Eduarda Simões, Serenna Ferrari e Thaís de Souza"
      ]
    },
    {
      "cell_type": "markdown",
      "metadata": {
        "id": "BiXhsGizEb4p"
      },
      "source": [
        "### Importando bibliotecas e respectivos módulos"
      ]
    },
    {
      "cell_type": "code",
      "metadata": {
        "id": "QIx7gts9rrZ1"
      },
      "source": [
        "import sys\n",
        "\n",
        "!\"{sys.executable}\" -m pip install -U pandas-profiling[notebook]\n",
        "!jupyter nbextension enable --py widgetsnbextension"
      ],
      "execution_count": null,
      "outputs": []
    },
    {
      "cell_type": "code",
      "metadata": {
        "id": "pEEUdYDuqCHv"
      },
      "source": [
        "# Importando bibliotecas\n",
        "import sklearn as skl\n",
        "import pandas as pd\n",
        "import seaborn as sns\n",
        "import matplotlib.pyplot as plt\n",
        "import numpy as np\n",
        "import scipy as sc\n",
        "\n",
        "from sklearn.ensemble import RandomForestClassifier\n",
        "from sklearn.model_selection import RepeatedStratifiedKFold\n",
        "from sklearn.model_selection import GridSearchCV\n",
        "from sklearn.model_selection import train_test_split\n",
        "from sklearn.model_selection import cross_val_score\n",
        "from sklearn.model_selection import cross_validate\n",
        "from sklearn.model_selection import StratifiedKFold\n",
        "from sklearn import model_selection\n",
        "from sklearn.metrics import classification_report\n",
        "from sklearn.metrics import confusion_matrix\n",
        "from sklearn.metrics import accuracy_score\n",
        "from sklearn.metrics import make_scorer\n",
        "from sklearn.linear_model import LogisticRegression\n",
        "from pandas_profiling import ProfileReport\n",
        "from sklearn import preprocessing\n",
        "%matplotlib inline"
      ],
      "execution_count": null,
      "outputs": []
    },
    {
      "cell_type": "markdown",
      "metadata": {
        "id": "pbbw322lDEC6"
      },
      "source": [
        "### Carregando dataset e resumo de dados\n",
        "\n",
        "---\n",
        "\n"
      ]
    },
    {
      "cell_type": "code",
      "metadata": {
        "id": "hWeCAx6Wvgqv"
      },
      "source": [
        "url = \"https://raw.githubusercontent.com/profmoisesomena/escience_and_tools/master/data/titanic_dados_t.csv\"\n",
        "\n",
        "#RENOMEOU-SE ALGUNS ATRIBUTOS\n",
        "names = [\"PassengerId\",\"survived\",\"shipClass\",\"name\",\"sex\",\"age\",\"siblingsSpousesOnboard\",\"parentsChildrenOnboard\",\"ticket\",\"fareTicket\",\"cabin\",\"embarkedHarbor\"]\n",
        "dataset = pd.read_csv(url, header=0, names=names)\n",
        "\n",
        "pd.pandas.set_option('display.max_columns', None)\n",
        "#print(dataset.head())\n"
      ],
      "execution_count": null,
      "outputs": []
    },
    {
      "cell_type": "markdown",
      "metadata": {
        "id": "lmvjnt1OqOU4"
      },
      "source": [
        "### Pré processamento"
      ]
    },
    {
      "cell_type": "code",
      "metadata": {
        "id": "yKS7Np7sp2Nt"
      },
      "source": [
        "#GERANDO O PROFILING REPORT (EDA)\n",
        "profile = ProfileReport(\n",
        "    dataset, title=\"Titanic Dataset\", html={\"style\": {\"full_width\": True}}, sort=\"None\",\n",
        "    correlations={\"cramers\": {\"calculate\": False}}) \n",
        "profile.to_file('titanic_raw.html')"
      ],
      "execution_count": null,
      "outputs": []
    },
    {
      "cell_type": "code",
      "metadata": {
        "id": "rWzAsPjdhdL0"
      },
      "source": [
        "profile.to_notebook_iframe()"
      ],
      "execution_count": null,
      "outputs": []
    },
    {
      "cell_type": "code",
      "metadata": {
        "colab": {
          "base_uri": "https://localhost:8080/"
        },
        "id": "1DooEyeuvnaF",
        "outputId": "45629662-2ba2-463e-87b1-79612d7f45a1"
      },
      "source": [
        "#VERIFICANDO DADOS DUPLICADOS\n",
        "sum(dataset.duplicated())"
      ],
      "execution_count": null,
      "outputs": [
        {
          "output_type": "execute_result",
          "data": {
            "text/plain": [
              "0"
            ]
          },
          "metadata": {
            "tags": []
          },
          "execution_count": 6
        }
      ]
    },
    {
      "cell_type": "code",
      "metadata": {
        "id": "13Q6KpAIljcr"
      },
      "source": [
        "#REMOVENDO ATRIBUTOS IRRELEVANTES\n",
        "dataset.drop([\"PassengerId\",\"name\",\"ticket\",\"cabin\",\"embarkedHarbor\"], axis = 1, inplace = True) #axis = 1 (toda coluna) | inplace = True (replace)\n",
        "#print(dataset.head())"
      ],
      "execution_count": null,
      "outputs": []
    },
    {
      "cell_type": "code",
      "metadata": {
        "colab": {
          "base_uri": "https://localhost:8080/"
        },
        "id": "holB4bZ4K-hS",
        "outputId": "66a65bcf-97e0-4b24-8008-907097ab3d35"
      },
      "source": [
        "#VERIFICANDO DADOS DUPLICADOS\n",
        "sum(dataset.duplicated())"
      ],
      "execution_count": null,
      "outputs": [
        {
          "output_type": "execute_result",
          "data": {
            "text/plain": [
              "114"
            ]
          },
          "metadata": {
            "tags": []
          },
          "execution_count": 8
        }
      ]
    },
    {
      "cell_type": "code",
      "metadata": {
        "id": "FHdPJ4T8m7gh"
      },
      "source": [
        "#VERIFICANDO OS DADOS NULOS E TIPO\n",
        "dataset_analise_nulos = dataset\n",
        "stat_data = dataset_analise_nulos.describe().T #T = transpose\n",
        "stat_data['nulos'] = pd.DataFrame(dataset_analise_nulos.isnull().sum())\n",
        "stat_data['percentualNulos'] = pd.DataFrame(dataset_analise_nulos.isna().mean().round(4)*100)\n",
        "stat_data['type'] = pd.Series(dataset_analise_nulos.dtypes)\n",
        "#stat_data\n"
      ],
      "execution_count": null,
      "outputs": []
    },
    {
      "cell_type": "code",
      "metadata": {
        "id": "Mfrd1_Nl1ZJq"
      },
      "source": [
        "# PREENCHENDO OS VALORES NULOS DE IDADE COM BASE NA MEDIA\n",
        "age_media = dataset.age.mean()\n",
        "dataset.fillna(age_media, inplace = True)"
      ],
      "execution_count": null,
      "outputs": []
    },
    {
      "cell_type": "code",
      "metadata": {
        "id": "XVFbL0AOvFbD",
        "colab": {
          "base_uri": "https://localhost:8080/"
        },
        "outputId": "c75852fd-8cc4-4fb5-de09-9374e5f8f625"
      },
      "source": [
        "#VERIFICANDO OS VALORES NULOS TRATADOS ANTERIORMENTE\n",
        "dataset.isnull().sum()"
      ],
      "execution_count": null,
      "outputs": [
        {
          "output_type": "execute_result",
          "data": {
            "text/plain": [
              "survived                  0\n",
              "shipClass                 0\n",
              "sex                       0\n",
              "age                       0\n",
              "siblingsSpousesOnboard    0\n",
              "parentsChildrenOnboard    0\n",
              "fareTicket                0\n",
              "dtype: int64"
            ]
          },
          "metadata": {
            "tags": []
          },
          "execution_count": 11
        }
      ]
    },
    {
      "cell_type": "code",
      "metadata": {
        "id": "81WfIol84-OJ"
      },
      "source": [
        "#CONVERTENDO OS VALORES DO ATRIBUTO 'SEX' - female, male PARA 0, 1\n",
        "label_encoder = preprocessing.LabelEncoder()\n",
        "dataset['sex']= label_encoder.fit_transform(dataset['sex'])"
      ],
      "execution_count": null,
      "outputs": []
    },
    {
      "cell_type": "code",
      "metadata": {
        "id": "rM1ZGl18Kmte",
        "colab": {
          "base_uri": "https://localhost:8080/",
          "height": 224
        },
        "outputId": "e9459652-6357-4c82-8178-c1dee8d80eff"
      },
      "source": [
        "#ENCAIXOTANDO (BINNING) PREÇOS DAS TARIFAS\n",
        "valuesFare = dataset.fareTicket\n",
        "groups_names = [1, 2, 3, 4, 5]\n",
        "categories = pd.qcut(valuesFare, 5, labels=groups_names)\n",
        "pd.value_counts(categories)\n",
        "dataset['categories_fareTicket'] = categories\n",
        "dataset.drop(\"fareTicket\", axis = 1, inplace = True)\n",
        "dataset.head()"
      ],
      "execution_count": null,
      "outputs": [
        {
          "output_type": "execute_result",
          "data": {
            "text/html": [
              "<div>\n",
              "<style scoped>\n",
              "    .dataframe tbody tr th:only-of-type {\n",
              "        vertical-align: middle;\n",
              "    }\n",
              "\n",
              "    .dataframe tbody tr th {\n",
              "        vertical-align: top;\n",
              "    }\n",
              "\n",
              "    .dataframe thead th {\n",
              "        text-align: right;\n",
              "    }\n",
              "</style>\n",
              "<table border=\"1\" class=\"dataframe\">\n",
              "  <thead>\n",
              "    <tr style=\"text-align: right;\">\n",
              "      <th></th>\n",
              "      <th>survived</th>\n",
              "      <th>shipClass</th>\n",
              "      <th>sex</th>\n",
              "      <th>age</th>\n",
              "      <th>siblingsSpousesOnboard</th>\n",
              "      <th>parentsChildrenOnboard</th>\n",
              "      <th>categories_fareTicket</th>\n",
              "    </tr>\n",
              "  </thead>\n",
              "  <tbody>\n",
              "    <tr>\n",
              "      <th>0</th>\n",
              "      <td>0</td>\n",
              "      <td>3</td>\n",
              "      <td>1</td>\n",
              "      <td>22.0</td>\n",
              "      <td>1</td>\n",
              "      <td>0</td>\n",
              "      <td>1</td>\n",
              "    </tr>\n",
              "    <tr>\n",
              "      <th>1</th>\n",
              "      <td>1</td>\n",
              "      <td>1</td>\n",
              "      <td>0</td>\n",
              "      <td>38.0</td>\n",
              "      <td>1</td>\n",
              "      <td>0</td>\n",
              "      <td>5</td>\n",
              "    </tr>\n",
              "    <tr>\n",
              "      <th>2</th>\n",
              "      <td>1</td>\n",
              "      <td>3</td>\n",
              "      <td>0</td>\n",
              "      <td>26.0</td>\n",
              "      <td>0</td>\n",
              "      <td>0</td>\n",
              "      <td>2</td>\n",
              "    </tr>\n",
              "    <tr>\n",
              "      <th>3</th>\n",
              "      <td>1</td>\n",
              "      <td>1</td>\n",
              "      <td>0</td>\n",
              "      <td>35.0</td>\n",
              "      <td>1</td>\n",
              "      <td>0</td>\n",
              "      <td>5</td>\n",
              "    </tr>\n",
              "    <tr>\n",
              "      <th>4</th>\n",
              "      <td>0</td>\n",
              "      <td>3</td>\n",
              "      <td>1</td>\n",
              "      <td>35.0</td>\n",
              "      <td>0</td>\n",
              "      <td>0</td>\n",
              "      <td>2</td>\n",
              "    </tr>\n",
              "  </tbody>\n",
              "</table>\n",
              "</div>"
            ],
            "text/plain": [
              "   survived  shipClass  sex   age  siblingsSpousesOnboard  \\\n",
              "0         0          3    1  22.0                       1   \n",
              "1         1          1    0  38.0                       1   \n",
              "2         1          3    0  26.0                       0   \n",
              "3         1          1    0  35.0                       1   \n",
              "4         0          3    1  35.0                       0   \n",
              "\n",
              "   parentsChildrenOnboard categories_fareTicket  \n",
              "0                       0                     1  \n",
              "1                       0                     5  \n",
              "2                       0                     2  \n",
              "3                       0                     5  \n",
              "4                       0                     2  "
            ]
          },
          "metadata": {
            "tags": []
          },
          "execution_count": 13
        }
      ]
    },
    {
      "cell_type": "code",
      "metadata": {
        "colab": {
          "base_uri": "https://localhost:8080/"
        },
        "id": "A6qIKJf9FP2u",
        "outputId": "ccb31fa4-0411-494e-d076-bafc6cfed7d1"
      },
      "source": [
        "dataset.shape"
      ],
      "execution_count": null,
      "outputs": [
        {
          "output_type": "execute_result",
          "data": {
            "text/plain": [
              "(891, 7)"
            ]
          },
          "metadata": {
            "tags": []
          },
          "execution_count": 14
        }
      ]
    },
    {
      "cell_type": "code",
      "metadata": {
        "id": "o4qqOjaMNbHm",
        "colab": {
          "base_uri": "https://localhost:8080/",
          "height": 282
        },
        "outputId": "5f53b76b-9d97-427d-cdad-c1a9f54a31bb"
      },
      "source": [
        " #EXCLUINDO OUTLIERS\n",
        "dataset_summary = dataset.iloc[:,:-1]\n",
        "q1 = dataset_summary.quantile(0.25)\n",
        "q3 = dataset_summary.quantile(0.75)\n",
        "IQR = q3 - q1\n",
        "lowqe_bound = q1 - 3 * IQR\n",
        "upper_bound = q3 + 3 * IQR\n",
        "dataset_summary.boxplot()"
      ],
      "execution_count": null,
      "outputs": [
        {
          "output_type": "execute_result",
          "data": {
            "text/plain": [
              "<matplotlib.axes._subplots.AxesSubplot at 0x7f577fc75890>"
            ]
          },
          "metadata": {
            "tags": []
          },
          "execution_count": 15
        },
        {
          "output_type": "display_data",
          "data": {
            "image/png": "[encoded data removed]",
            "text/plain": [
              "<Figure size 432x288 with 1 Axes>"
            ]
          },
          "metadata": {
            "tags": [],
            "needs_background": "light"
          }
        }
      ]
    },
    {
      "cell_type": "code",
      "metadata": {
        "colab": {
          "base_uri": "https://localhost:8080/",
          "height": 282
        },
        "id": "x9TXIUhrf0xr",
        "outputId": "7872fb89-4dc3-42ba-b33f-8e0d2e1ca565"
      },
      "source": [
        "IQR_dataset = dataset_summary[~((dataset_summary < lowqe_bound) | (dataset_summary > upper_bound)).any(axis=1)]\n",
        "IQR_dataset.boxplot()"
      ],
      "execution_count": null,
      "outputs": [
        {
          "output_type": "execute_result",
          "data": {
            "text/plain": [
              "<matplotlib.axes._subplots.AxesSubplot at 0x7f577f755910>"
            ]
          },
          "metadata": {
            "tags": []
          },
          "execution_count": 16
        },
        {
          "output_type": "display_data",
          "data": {
            "image/png": "[encoded data removed]",
            "text/plain": [
              "<Figure size 432x288 with 1 Axes>"
            ]
          },
          "metadata": {
            "tags": [],
            "needs_background": "light"
          }
        }
      ]
    },
    {
      "cell_type": "code",
      "metadata": {
        "colab": {
          "base_uri": "https://localhost:8080/"
        },
        "id": "nUuTr4FgFZqW",
        "outputId": "db66c8fd-62bb-49d4-a1be-39132c84c55b"
      },
      "source": [
        "IQR_dataset.shape"
      ],
      "execution_count": null,
      "outputs": [
        {
          "output_type": "execute_result",
          "data": {
            "text/plain": [
              "(677, 6)"
            ]
          },
          "metadata": {
            "tags": []
          },
          "execution_count": 17
        }
      ]
    },
    {
      "cell_type": "code",
      "metadata": {
        "colab": {
          "base_uri": "https://localhost:8080/"
        },
        "id": "6HGhAbHfg-NM",
        "outputId": "cd920bce-234e-4517-d617-ee78f2429537"
      },
      "source": [
        "#BALANCEAMENTO = VERIFICANDO VARIAÇÃO NO ATRIBUTO ALVO\n",
        "target = \"survived\"\n",
        "count_class_0, count_class_1 = dataset[target].value_counts()\n",
        "print(count_class_0)\n",
        "print(count_class_1)"
      ],
      "execution_count": null,
      "outputs": [
        {
          "output_type": "stream",
          "text": [
            "549\n",
            "342\n"
          ],
          "name": "stdout"
        }
      ]
    },
    {
      "cell_type": "code",
      "metadata": {
        "id": "yra35AdTqF5Y",
        "colab": {
          "base_uri": "https://localhost:8080/",
          "height": 201,
          "referenced_widgets": [
            "60390b426d944975bf240b779c83cc1b",
            "2da26c532f154f479c91ccc9dff9ca69",
            "6b22213167634e0b8f1d6176728d5b11",
            "a294f86eb58543759671f642fe7801d4",
            "9fd82f1f65d1485b940ca196f48e9bea",
            "dd815d15028e4be884b0c53f2ee2004c",
            "66353074e7b341a2a52c1256343a4792",
            "9deb3b977e3f4b26bde3e09a58b5e3c8",
            "bd101994fb454b918aec80acccc7d9bd",
            "dda256cff0a14a969626d948a9558812",
            "751903e2c9b54bda99b2743fb5f7ad15",
            "b88ce6a7d712498888df0a9ecf2d48d4",
            "ad215d6d475b41fdbd32d384455a1a47",
            "ea620195838843168d677304691f99e3",
            "77486b0439bf4924a08f5bd18ab639d3",
            "e58d5dddde44469b9fc2867e9a140adf",
            "e2a95c6bfaab4d1891612db49060f2d0",
            "fe32d6181238428ebf3a12defddcae6d",
            "84d8b55114e24684b49f9b2e5d9a9e8e",
            "a55f45a23c504325b31a7369e0925022",
            "e66868a3666d40d18534593d962c5034",
            "84a955fdcb264780a1645bfec820ec4a",
            "aff4679c0d06457fb403dde247a7eee7",
            "082e98a15c6044b5a622c4e21e6181d0",
            "032db43069e54316b8e86c8f59b669ed",
            "ba6be15f4145447486ad99995cd137fb",
            "e059e904b2d0462196f36e9be4831f08",
            "1f47f6cbd7fc4d85a244fd4cdcf31fe2",
            "a103b36aaa9e4f028a6f72854a73e8de",
            "6c383b0c5fac4f468cd364c3179ef516",
            "30184bebee5945dbaa0f1145692f294e",
            "ee29dedf703c4487a3597c380af1cdb8",
            "da378fb119854464aa32c9c7d28767f3",
            "57a95f3ff43a410196cdcb02a811669f",
            "6370ce7d44a94713ab2562ce258f1b3c",
            "57f33c94742e4a41811e69d6d88887e0",
            "a0b27a2379384001bf320b4fd80a542e",
            "ff73aa0210a34e71bbd6b251dde509a3",
            "59ea90f7c58140d4ac0909d328fc9070",
            "2fbdd7670ded4ad0862725914d03d7be",
            "3f6e04c900fb47f38a76394ede0db5e4",
            "082c411aca5f4217b3baeb64890c1065",
            "214c7f2027de4e1eb850f1b3e7356663",
            "1ac0da04e628457ba4ba0b0801300f37"
          ]
        },
        "outputId": "bf032209-66d9-49b6-9369-0fad01065141"
      },
      "source": [
        "# Profiling Report\n",
        "profile = ProfileReport(dataset, html={\"style\": {\"full_width\": True}}, sort=\"None\")\n",
        "profile.to_file(\"titanic_done.html\")"
      ],
      "execution_count": null,
      "outputs": [
        {
          "output_type": "display_data",
          "data": {
            "application/vnd.jupyter.widget-view+json": {
              "model_id": "60390b426d944975bf240b779c83cc1b",
              "version_minor": 0,
              "version_major": 2
            },
            "text/plain": [
              "Summarize dataset:   0%|          | 0/20 [00:00<?, ?it/s]"
            ]
          },
          "metadata": {
            "tags": []
          }
        },
        {
          "output_type": "display_data",
          "data": {
            "application/vnd.jupyter.widget-view+json": {
              "model_id": "b88ce6a7d712498888df0a9ecf2d48d4",
              "version_minor": 0,
              "version_major": 2
            },
            "text/plain": [
              "Generate report structure:   0%|          | 0/1 [00:00<?, ?it/s]"
            ]
          },
          "metadata": {
            "tags": []
          }
        },
        {
          "output_type": "display_data",
          "data": {
            "application/vnd.jupyter.widget-view+json": {
              "model_id": "aff4679c0d06457fb403dde247a7eee7",
              "version_minor": 0,
              "version_major": 2
            },
            "text/plain": [
              "Render HTML:   0%|          | 0/1 [00:00<?, ?it/s]"
            ]
          },
          "metadata": {
            "tags": []
          }
        },
        {
          "output_type": "display_data",
          "data": {
            "application/vnd.jupyter.widget-view+json": {
              "model_id": "57a95f3ff43a410196cdcb02a811669f",
              "version_minor": 0,
              "version_major": 2
            },
            "text/plain": [
              "Export report to file:   0%|          | 0/1 [00:00<?, ?it/s]"
            ]
          },
          "metadata": {
            "tags": []
          }
        }
      ]
    },
    {
      "cell_type": "code",
      "metadata": {
        "id": "ZuZcRGqT_S2y"
      },
      "source": [
        "profile.to_notebook_iframe()"
      ],
      "execution_count": null,
      "outputs": []
    },
    {
      "cell_type": "markdown",
      "metadata": {
        "id": "Q9j5EgQ8laal"
      },
      "source": [
        "### Separando conjuntos de dados para treinamento e teste"
      ]
    },
    {
      "cell_type": "code",
      "metadata": {
        "id": "KBuzhlZ15nBO"
      },
      "source": [
        "array = IQR_dataset.values \n",
        "x, y = array[:, 1:], array[:,0]"
      ],
      "execution_count": null,
      "outputs": []
    },
    {
      "cell_type": "code",
      "metadata": {
        "id": "BcLpGLmC7DPM"
      },
      "source": [
        "x_train, x_teste, y_train, y_teste = train_test_split(x, y, test_size = 0.25, random_state = 0, shuffle = True)"
      ],
      "execution_count": null,
      "outputs": []
    },
    {
      "cell_type": "markdown",
      "metadata": {
        "id": "DNY5ED6blb3q"
      },
      "source": [
        "### Criando modelo"
      ]
    },
    {
      "cell_type": "code",
      "metadata": {
        "id": "LWIuO6Yx7HvK",
        "colab": {
          "base_uri": "https://localhost:8080/"
        },
        "outputId": "9766d9d1-c2b3-4c95-86b6-bf7df5874695"
      },
      "source": [
        "model = LogisticRegression() #CLASSIFICACAO\n",
        "model.fit(x_train, y_train)"
      ],
      "execution_count": null,
      "outputs": [
        {
          "output_type": "execute_result",
          "data": {
            "text/plain": [
              "LogisticRegression(C=1.0, class_weight=None, dual=False, fit_intercept=True,\n",
              "                   intercept_scaling=1, l1_ratio=None, max_iter=100,\n",
              "                   multi_class='auto', n_jobs=None, penalty='l2',\n",
              "                   random_state=None, solver='lbfgs', tol=0.0001, verbose=0,\n",
              "                   warm_start=False)"
            ]
          },
          "metadata": {
            "tags": []
          },
          "execution_count": 23
        }
      ]
    },
    {
      "cell_type": "markdown",
      "metadata": {
        "id": "36fqAYjXlg6I"
      },
      "source": [
        "### Acurácia"
      ]
    },
    {
      "cell_type": "code",
      "metadata": {
        "id": "BYqpXNXw7Jn2",
        "colab": {
          "base_uri": "https://localhost:8080/"
        },
        "outputId": "269ddfaf-3349-4d93-f7b5-0a50243a6fc0"
      },
      "source": [
        "print(\"\\n --- Precisão de treino --- \\n ==> \", skl.metrics.accuracy_score(y_train, model.predict(x_train)))\n",
        "print(\"\\n --- Precisão de teste ---\\n ==>\", skl.metrics.accuracy_score(y_teste, model.predict(x_teste)))"
      ],
      "execution_count": null,
      "outputs": [
        {
          "output_type": "stream",
          "text": [
            "\n",
            " --- Precisão de treino --- \n",
            " ==>  0.8165680473372781\n",
            "\n",
            " --- Precisão de teste ---\n",
            " ==> 0.8411764705882353\n"
          ],
          "name": "stdout"
        }
      ]
    },
    {
      "cell_type": "markdown",
      "metadata": {
        "id": "S08JBoQeBWWY"
      },
      "source": [
        "## **Métricas**"
      ]
    },
    {
      "cell_type": "markdown",
      "metadata": {
        "id": "3rbLqYE8mHAb"
      },
      "source": [
        "### Separando conjuntos de dados para treinamento e teste"
      ]
    },
    {
      "cell_type": "code",
      "metadata": {
        "id": "HwKXJMFjK1IX"
      },
      "source": [
        "array = dataset.values \n",
        "x, y = array[:, 1:], array[:,0]"
      ],
      "execution_count": null,
      "outputs": []
    },
    {
      "cell_type": "code",
      "metadata": {
        "id": "VaqWguONB38r"
      },
      "source": [
        "test_size = 0.20\n",
        "x_train_d, x_teste_d, y_train_d,y_teste_d = model_selection.train_test_split(x, y, test_size = test_size, random_state = 5)"
      ],
      "execution_count": null,
      "outputs": []
    },
    {
      "cell_type": "markdown",
      "metadata": {
        "id": "V3aioOBNmNGY"
      },
      "source": [
        "### Criando modelo"
      ]
    },
    {
      "cell_type": "code",
      "metadata": {
        "colab": {
          "base_uri": "https://localhost:8080/"
        },
        "id": "ncKWyTkFB4en",
        "outputId": "8f8f0756-b906-4ff1-fcb1-1e0028e8e82f"
      },
      "source": [
        "model = LogisticRegression(random_state = 0, max_iter = 1000, C = 1).fit(x, y)\n",
        "model.fit(x_train_d, y_train_d)"
      ],
      "execution_count": null,
      "outputs": [
        {
          "output_type": "execute_result",
          "data": {
            "text/plain": [
              "LogisticRegression(C=1, class_weight=None, dual=False, fit_intercept=True,\n",
              "                   intercept_scaling=1, l1_ratio=None, max_iter=1000,\n",
              "                   multi_class='auto', n_jobs=None, penalty='l2',\n",
              "                   random_state=0, solver='lbfgs', tol=0.0001, verbose=0,\n",
              "                   warm_start=False)"
            ]
          },
          "metadata": {
            "tags": []
          },
          "execution_count": 27
        }
      ]
    },
    {
      "cell_type": "markdown",
      "metadata": {
        "id": "535CaVhfmPIp"
      },
      "source": [
        "### Obtendo predict"
      ]
    },
    {
      "cell_type": "code",
      "metadata": {
        "id": "HY2y4qDeB46f"
      },
      "source": [
        "predicted_d = model.predict(x_teste_d)"
      ],
      "execution_count": null,
      "outputs": []
    },
    {
      "cell_type": "markdown",
      "metadata": {
        "id": "HamigU8SmUWk"
      },
      "source": [
        "### Matriz de confusão"
      ]
    },
    {
      "cell_type": "code",
      "metadata": {
        "colab": {
          "base_uri": "https://localhost:8080/"
        },
        "id": "lBvm1brNGP8u",
        "outputId": "c5bd1e20-1972-4649-b0e2-1028fac8e76d"
      },
      "source": [
        "matrix = confusion_matrix(y_teste_d, predicted_d)\n",
        "\n",
        "print('==== Conf. Matrix ====')\n",
        "print(matrix)\n",
        "\n",
        "report = classification_report(y_teste_d, predicted_d)\n",
        "print('\\n==== Report ====')\n",
        "print(report)"
      ],
      "execution_count": null,
      "outputs": [
        {
          "output_type": "stream",
          "text": [
            "==== Conf. Matrix ====\n",
            "[[98 13]\n",
            " [18 50]]\n",
            "\n",
            "==== Report ====\n",
            "              precision    recall  f1-score   support\n",
            "\n",
            "         0.0       0.84      0.88      0.86       111\n",
            "         1.0       0.79      0.74      0.76        68\n",
            "\n",
            "    accuracy                           0.83       179\n",
            "   macro avg       0.82      0.81      0.81       179\n",
            "weighted avg       0.83      0.83      0.83       179\n",
            "\n"
          ],
          "name": "stdout"
        }
      ]
    },
    {
      "cell_type": "code",
      "metadata": {
        "colab": {
          "base_uri": "https://localhost:8080/",
          "height": 142
        },
        "id": "_7gReO8KoIYp",
        "outputId": "8f30231f-cce1-493b-de9c-72339d7078e7"
      },
      "source": [
        "pd.crosstab(y_teste_d, predicted_d)"
      ],
      "execution_count": null,
      "outputs": [
        {
          "output_type": "execute_result",
          "data": {
            "text/html": [
              "<div>\n",
              "<style scoped>\n",
              "    .dataframe tbody tr th:only-of-type {\n",
              "        vertical-align: middle;\n",
              "    }\n",
              "\n",
              "    .dataframe tbody tr th {\n",
              "        vertical-align: top;\n",
              "    }\n",
              "\n",
              "    .dataframe thead th {\n",
              "        text-align: right;\n",
              "    }\n",
              "</style>\n",
              "<table border=\"1\" class=\"dataframe\">\n",
              "  <thead>\n",
              "    <tr style=\"text-align: right;\">\n",
              "      <th>col_0</th>\n",
              "      <th>0.0</th>\n",
              "      <th>1.0</th>\n",
              "    </tr>\n",
              "    <tr>\n",
              "      <th>row_0</th>\n",
              "      <th></th>\n",
              "      <th></th>\n",
              "    </tr>\n",
              "  </thead>\n",
              "  <tbody>\n",
              "    <tr>\n",
              "      <th>0.0</th>\n",
              "      <td>98</td>\n",
              "      <td>13</td>\n",
              "    </tr>\n",
              "    <tr>\n",
              "      <th>1.0</th>\n",
              "      <td>18</td>\n",
              "      <td>50</td>\n",
              "    </tr>\n",
              "  </tbody>\n",
              "</table>\n",
              "</div>"
            ],
            "text/plain": [
              "col_0  0.0  1.0\n",
              "row_0          \n",
              "0.0     98   13\n",
              "1.0     18   50"
            ]
          },
          "metadata": {
            "tags": []
          },
          "execution_count": 30
        }
      ]
    },
    {
      "cell_type": "markdown",
      "metadata": {
        "id": "Arb99UFySS8b"
      },
      "source": [
        "### Classificação probabilística"
      ]
    },
    {
      "cell_type": "code",
      "metadata": {
        "id": "56UFp4JNSdnk"
      },
      "source": [
        "df_res = pd.DataFrame(x_teste_d.copy())"
      ],
      "execution_count": null,
      "outputs": []
    },
    {
      "cell_type": "code",
      "metadata": {
        "colab": {
          "base_uri": "https://localhost:8080/",
          "height": 419
        },
        "id": "GFdwZ4MzSeHF",
        "outputId": "d1b75d2b-04e9-41ee-c71e-87460d82f898"
      },
      "source": [
        "df_res[\"real\"] = y_teste_d\n",
        "df_res[\"predição\"] = predicted_d\n",
        "df_res[['prob_no', 'prob_yes']] = model.predict_proba(x_teste_d)\n",
        "df_res"
      ],
      "execution_count": null,
      "outputs": [
        {
          "output_type": "execute_result",
          "data": {
            "text/html": [
              "<div>\n",
              "<style scoped>\n",
              "    .dataframe tbody tr th:only-of-type {\n",
              "        vertical-align: middle;\n",
              "    }\n",
              "\n",
              "    .dataframe tbody tr th {\n",
              "        vertical-align: top;\n",
              "    }\n",
              "\n",
              "    .dataframe thead th {\n",
              "        text-align: right;\n",
              "    }\n",
              "</style>\n",
              "<table border=\"1\" class=\"dataframe\">\n",
              "  <thead>\n",
              "    <tr style=\"text-align: right;\">\n",
              "      <th></th>\n",
              "      <th>0</th>\n",
              "      <th>1</th>\n",
              "      <th>2</th>\n",
              "      <th>3</th>\n",
              "      <th>4</th>\n",
              "      <th>5</th>\n",
              "      <th>real</th>\n",
              "      <th>predição</th>\n",
              "      <th>prob_no</th>\n",
              "      <th>prob_yes</th>\n",
              "    </tr>\n",
              "  </thead>\n",
              "  <tbody>\n",
              "    <tr>\n",
              "      <th>0</th>\n",
              "      <td>3.0</td>\n",
              "      <td>1.0</td>\n",
              "      <td>29.699118</td>\n",
              "      <td>0.0</td>\n",
              "      <td>0.0</td>\n",
              "      <td>1.0</td>\n",
              "      <td>0.0</td>\n",
              "      <td>0.0</td>\n",
              "      <td>0.911793</td>\n",
              "      <td>0.088207</td>\n",
              "    </tr>\n",
              "    <tr>\n",
              "      <th>1</th>\n",
              "      <td>3.0</td>\n",
              "      <td>1.0</td>\n",
              "      <td>29.699118</td>\n",
              "      <td>0.0</td>\n",
              "      <td>0.0</td>\n",
              "      <td>1.0</td>\n",
              "      <td>0.0</td>\n",
              "      <td>0.0</td>\n",
              "      <td>0.911793</td>\n",
              "      <td>0.088207</td>\n",
              "    </tr>\n",
              "    <tr>\n",
              "      <th>2</th>\n",
              "      <td>3.0</td>\n",
              "      <td>1.0</td>\n",
              "      <td>35.000000</td>\n",
              "      <td>0.0</td>\n",
              "      <td>0.0</td>\n",
              "      <td>1.0</td>\n",
              "      <td>0.0</td>\n",
              "      <td>0.0</td>\n",
              "      <td>0.927279</td>\n",
              "      <td>0.072721</td>\n",
              "    </tr>\n",
              "    <tr>\n",
              "      <th>3</th>\n",
              "      <td>3.0</td>\n",
              "      <td>1.0</td>\n",
              "      <td>26.000000</td>\n",
              "      <td>0.0</td>\n",
              "      <td>0.0</td>\n",
              "      <td>5.0</td>\n",
              "      <td>1.0</td>\n",
              "      <td>0.0</td>\n",
              "      <td>0.797432</td>\n",
              "      <td>0.202568</td>\n",
              "    </tr>\n",
              "    <tr>\n",
              "      <th>4</th>\n",
              "      <td>3.0</td>\n",
              "      <td>1.0</td>\n",
              "      <td>32.000000</td>\n",
              "      <td>0.0</td>\n",
              "      <td>0.0</td>\n",
              "      <td>2.0</td>\n",
              "      <td>0.0</td>\n",
              "      <td>0.0</td>\n",
              "      <td>0.902216</td>\n",
              "      <td>0.097784</td>\n",
              "    </tr>\n",
              "    <tr>\n",
              "      <th>...</th>\n",
              "      <td>...</td>\n",
              "      <td>...</td>\n",
              "      <td>...</td>\n",
              "      <td>...</td>\n",
              "      <td>...</td>\n",
              "      <td>...</td>\n",
              "      <td>...</td>\n",
              "      <td>...</td>\n",
              "      <td>...</td>\n",
              "      <td>...</td>\n",
              "    </tr>\n",
              "    <tr>\n",
              "      <th>174</th>\n",
              "      <td>2.0</td>\n",
              "      <td>1.0</td>\n",
              "      <td>29.699118</td>\n",
              "      <td>0.0</td>\n",
              "      <td>0.0</td>\n",
              "      <td>1.0</td>\n",
              "      <td>0.0</td>\n",
              "      <td>0.0</td>\n",
              "      <td>0.808844</td>\n",
              "      <td>0.191156</td>\n",
              "    </tr>\n",
              "    <tr>\n",
              "      <th>175</th>\n",
              "      <td>3.0</td>\n",
              "      <td>1.0</td>\n",
              "      <td>29.699118</td>\n",
              "      <td>0.0</td>\n",
              "      <td>0.0</td>\n",
              "      <td>2.0</td>\n",
              "      <td>0.0</td>\n",
              "      <td>0.0</td>\n",
              "      <td>0.893879</td>\n",
              "      <td>0.106121</td>\n",
              "    </tr>\n",
              "    <tr>\n",
              "      <th>176</th>\n",
              "      <td>3.0</td>\n",
              "      <td>1.0</td>\n",
              "      <td>36.000000</td>\n",
              "      <td>0.0</td>\n",
              "      <td>0.0</td>\n",
              "      <td>1.0</td>\n",
              "      <td>0.0</td>\n",
              "      <td>0.0</td>\n",
              "      <td>0.929904</td>\n",
              "      <td>0.070096</td>\n",
              "    </tr>\n",
              "    <tr>\n",
              "      <th>177</th>\n",
              "      <td>2.0</td>\n",
              "      <td>0.0</td>\n",
              "      <td>32.500000</td>\n",
              "      <td>0.0</td>\n",
              "      <td>0.0</td>\n",
              "      <td>3.0</td>\n",
              "      <td>1.0</td>\n",
              "      <td>1.0</td>\n",
              "      <td>0.183094</td>\n",
              "      <td>0.816906</td>\n",
              "    </tr>\n",
              "    <tr>\n",
              "      <th>178</th>\n",
              "      <td>3.0</td>\n",
              "      <td>1.0</td>\n",
              "      <td>32.000000</td>\n",
              "      <td>0.0</td>\n",
              "      <td>0.0</td>\n",
              "      <td>1.0</td>\n",
              "      <td>0.0</td>\n",
              "      <td>0.0</td>\n",
              "      <td>0.918851</td>\n",
              "      <td>0.081149</td>\n",
              "    </tr>\n",
              "  </tbody>\n",
              "</table>\n",
              "<p>179 rows × 10 columns</p>\n",
              "</div>"
            ],
            "text/plain": [
              "       0    1          2    3    4    5  real  predição   prob_no  prob_yes\n",
              "0    3.0  1.0  29.699118  0.0  0.0  1.0   0.0       0.0  0.911793  0.088207\n",
              "1    3.0  1.0  29.699118  0.0  0.0  1.0   0.0       0.0  0.911793  0.088207\n",
              "2    3.0  1.0  35.000000  0.0  0.0  1.0   0.0       0.0  0.927279  0.072721\n",
              "3    3.0  1.0  26.000000  0.0  0.0  5.0   1.0       0.0  0.797432  0.202568\n",
              "4    3.0  1.0  32.000000  0.0  0.0  2.0   0.0       0.0  0.902216  0.097784\n",
              "..   ...  ...        ...  ...  ...  ...   ...       ...       ...       ...\n",
              "174  2.0  1.0  29.699118  0.0  0.0  1.0   0.0       0.0  0.808844  0.191156\n",
              "175  3.0  1.0  29.699118  0.0  0.0  2.0   0.0       0.0  0.893879  0.106121\n",
              "176  3.0  1.0  36.000000  0.0  0.0  1.0   0.0       0.0  0.929904  0.070096\n",
              "177  2.0  0.0  32.500000  0.0  0.0  3.0   1.0       1.0  0.183094  0.816906\n",
              "178  3.0  1.0  32.000000  0.0  0.0  1.0   0.0       0.0  0.918851  0.081149\n",
              "\n",
              "[179 rows x 10 columns]"
            ]
          },
          "metadata": {
            "tags": []
          },
          "execution_count": 32
        }
      ]
    },
    {
      "cell_type": "markdown",
      "metadata": {
        "id": "GmhOKrgMOj9R"
      },
      "source": [
        "Análise cross validate"
      ]
    },
    {
      "cell_type": "code",
      "metadata": {
        "id": "rdwPwhT-Us0_",
        "colab": {
          "base_uri": "https://localhost:8080/"
        },
        "outputId": "819aa57c-f870-414a-c0de-6e32492a649b"
      },
      "source": [
        "scoring = ['accuracy', 'recall_macro', 'f1_macro', 'precision_macro']\n",
        "\n",
        "#K-FOLD\n",
        "kfold = model_selection.KFold(n_splits=5, random_state=5, shuffle=True)\n",
        "cv_results = cross_validate(model, x, y, cv = kfold, scoring = scoring)\n",
        "print(\"Cross validate\")\n",
        "print(\"acurácia: \", cv_results['test_accuracy'].mean())\n",
        "#print(\"resultado acurácia: \", cv_results['test_accuracy'])\n",
        "print(\"precisão\", cv_results['test_precision_macro'].mean())\n",
        "print(\"recall   \", cv_results['test_recall_macro'].mean())\n",
        "print(\"f1      \", cv_results['test_f1_macro'].mean())"
      ],
      "execution_count": null,
      "outputs": [
        {
          "output_type": "stream",
          "text": [
            "Cross validate\n",
            "acurácia:  0.7912058251208336\n",
            "precisão 0.7797727430029071\n",
            "recall    0.7722236287081481\n",
            "f1       0.7754102783415675\n"
          ],
          "name": "stdout"
        }
      ]
    },
    {
      "cell_type": "markdown",
      "metadata": {
        "id": "ect4bXsDwxMt"
      },
      "source": [
        "# **Uso de Grid Search e Avaliação com hiperparâmetros**"
      ]
    },
    {
      "cell_type": "code",
      "metadata": {
        "id": "TofAYHTBw7iD"
      },
      "source": [
        "array = IQR_dataset.values \n",
        "x, y = array[:, 1:], array[:,0]\n",
        "x_train, y_train = array[:, 1:], array[:,0]"
      ],
      "execution_count": null,
      "outputs": []
    },
    {
      "cell_type": "code",
      "metadata": {
        "id": "6bNk0PXUyGhR"
      },
      "source": [
        "model = LogisticRegression()"
      ],
      "execution_count": null,
      "outputs": []
    },
    {
      "cell_type": "markdown",
      "metadata": {
        "id": "GEW87BgAzpnB"
      },
      "source": [
        "Definindo os parâmetros"
      ]
    },
    {
      "cell_type": "code",
      "metadata": {
        "id": "qbAuyPsyyjfx"
      },
      "source": [
        "solvers = ['liblinear', 'newton-cg', 'lbfgs', 'saga'] #qual parâmetro fica melhor\n",
        "c_values = [1.99, 1.9, 1.0, 0.1, 0.01]"
      ],
      "execution_count": null,
      "outputs": []
    },
    {
      "cell_type": "code",
      "metadata": {
        "id": "Pucwm_g01Jqu"
      },
      "source": [
        "grid = dict(solver = solvers, C = c_values)\n",
        "cv = RepeatedStratifiedKFold(n_splits = 10, n_repeats = 3, random_state = 1)\n",
        "grid_search = GridSearchCV(estimator = model, param_grid = grid, n_jobs = -1, cv = cv, scoring = 'accuracy', error_score = 0)\n",
        "grid_result = grid_search.fit(x,y)"
      ],
      "execution_count": null,
      "outputs": []
    },
    {
      "cell_type": "markdown",
      "metadata": {
        "id": "JGvdIU7p2O_Q"
      },
      "source": [
        "Melhor resultado"
      ]
    },
    {
      "cell_type": "code",
      "metadata": {
        "colab": {
          "base_uri": "https://localhost:8080/"
        },
        "id": "xdLeTtCl2Hee",
        "outputId": "352d7442-98bd-4e0b-e887-cc04277679b8"
      },
      "source": [
        "print(\"Best: %f using %s\" % (grid_result.best_score_, grid_result.best_params_))\n",
        "means = grid_result.cv_results_['mean_test_score']\n",
        "stds = grid_result.cv_results_['std_test_score']\n",
        "params = grid_result.cv_results_['params']\n",
        "for mean, stdev, param in zip(means, stds, params):\n",
        "  print(\"%f (%f) with: %r\" % (mean, stdev, param))"
      ],
      "execution_count": null,
      "outputs": [
        {
          "output_type": "stream",
          "text": [
            "Best: 0.822703 using {'C': 1.99, 'solver': 'liblinear'}\n",
            "0.822703 (0.053345) with: {'C': 1.99, 'solver': 'liblinear'}\n",
            "0.819747 (0.052302) with: {'C': 1.99, 'solver': 'newton-cg'}\n",
            "0.819747 (0.052302) with: {'C': 1.99, 'solver': 'lbfgs'}\n",
            "0.799546 (0.041896) with: {'C': 1.99, 'solver': 'saga'}\n",
            "0.822703 (0.053345) with: {'C': 1.9, 'solver': 'liblinear'}\n",
            "0.819747 (0.052302) with: {'C': 1.9, 'solver': 'newton-cg'}\n",
            "0.819747 (0.052302) with: {'C': 1.9, 'solver': 'lbfgs'}\n",
            "0.798566 (0.041840) with: {'C': 1.9, 'solver': 'saga'}\n",
            "0.822703 (0.053345) with: {'C': 1.0, 'solver': 'liblinear'}\n",
            "0.819747 (0.052302) with: {'C': 1.0, 'solver': 'newton-cg'}\n",
            "0.819747 (0.052302) with: {'C': 1.0, 'solver': 'lbfgs'}\n",
            "0.799056 (0.041525) with: {'C': 1.0, 'solver': 'saga'}\n",
            "0.813835 (0.053079) with: {'C': 0.1, 'solver': 'liblinear'}\n",
            "0.821232 (0.049097) with: {'C': 0.1, 'solver': 'newton-cg'}\n",
            "0.821232 (0.049097) with: {'C': 0.1, 'solver': 'lbfgs'}\n",
            "0.798076 (0.040416) with: {'C': 0.1, 'solver': 'saga'}\n",
            "0.731182 (0.030683) with: {'C': 0.01, 'solver': 'liblinear'}\n",
            "0.748873 (0.030206) with: {'C': 0.01, 'solver': 'newton-cg'}\n",
            "0.748873 (0.030206) with: {'C': 0.01, 'solver': 'lbfgs'}\n",
            "0.738565 (0.029960) with: {'C': 0.01, 'solver': 'saga'}\n"
          ],
          "name": "stdout"
        }
      ]
    },
    {
      "cell_type": "markdown",
      "metadata": {
        "id": "PXVshdAi96f0"
      },
      "source": [
        "**Verificando parâmetros default com Randon Forest**"
      ]
    },
    {
      "cell_type": "code",
      "metadata": {
        "colab": {
          "base_uri": "https://localhost:8080/"
        },
        "id": "ejx7xu0E-Sm9",
        "outputId": "40c4decd-e135-4307-d923-bcba0a17e24f"
      },
      "source": [
        "rf = RandomForestClassifier(random_state = 0)\n",
        "print('Parâmetros em uso: \\n')\n",
        "print(rf.get_params())"
      ],
      "execution_count": null,
      "outputs": [
        {
          "output_type": "stream",
          "text": [
            "Parâmetros em uso: \n",
            "\n",
            "{'bootstrap': True, 'ccp_alpha': 0.0, 'class_weight': None, 'criterion': 'gini', 'max_depth': None, 'max_features': 'auto', 'max_leaf_nodes': None, 'max_samples': None, 'min_impurity_decrease': 0.0, 'min_impurity_split': None, 'min_samples_leaf': 1, 'min_samples_split': 2, 'min_weight_fraction_leaf': 0.0, 'n_estimators': 100, 'n_jobs': None, 'oob_score': False, 'random_state': 0, 'verbose': 0, 'warm_start': False}\n"
          ],
          "name": "stdout"
        }
      ]
    },
    {
      "cell_type": "markdown",
      "metadata": {
        "id": "iohc9QjAARFU"
      },
      "source": [
        "Melhor resultado trocando os hiperparâmetros"
      ]
    },
    {
      "cell_type": "code",
      "metadata": {
        "id": "h-q48KBAAVsH"
      },
      "source": [
        "param_grid = {\n",
        "    'bootstrap' : [True, False],\n",
        "    'max_depth' : [10, 15, 20],\n",
        "    'n_estimators' : [200, 300, 400]\n",
        "}"
      ],
      "execution_count": null,
      "outputs": []
    },
    {
      "cell_type": "code",
      "metadata": {
        "colab": {
          "base_uri": "https://localhost:8080/"
        },
        "id": "LRossCDIA4Ye",
        "outputId": "68e99685-6aeb-4a83-b36c-98bfebe6b7bc"
      },
      "source": [
        "cv = RepeatedStratifiedKFold(n_splits = 5, n_repeats = 3, random_state = 1)\n",
        "grid_search = GridSearchCV(estimator = rf, param_grid = param_grid, n_jobs = -1, cv = cv, scoring = 'accuracy', error_score = 0)\n",
        "grid_result = grid_search.fit(x_train,y_train)\n",
        "print(\"Best: %f using %s\" % (grid_result.best_score_, grid_result.best_params_))\n",
        "means = grid_result.cv_results_['mean_test_score']\n",
        "stds = grid_result.cv_results_['std_test_score']\n",
        "params = grid_result.cv_results_['params']\n",
        "for mean, stdev, param in zip(means, stds, params):\n",
        "  print(\"%f (%f) with: %r\" % (mean, stdev, param))"
      ],
      "execution_count": null,
      "outputs": [
        {
          "output_type": "stream",
          "text": [
            "Best: 0.799622 using {'bootstrap': True, 'max_depth': 15, 'n_estimators': 400}\n",
            "0.796678 (0.035934) with: {'bootstrap': True, 'max_depth': 10, 'n_estimators': 200}\n",
            "0.796674 (0.035336) with: {'bootstrap': True, 'max_depth': 10, 'n_estimators': 300}\n",
            "0.798152 (0.035006) with: {'bootstrap': True, 'max_depth': 10, 'n_estimators': 400}\n",
            "0.797171 (0.034157) with: {'bootstrap': True, 'max_depth': 15, 'n_estimators': 200}\n",
            "0.798642 (0.035712) with: {'bootstrap': True, 'max_depth': 15, 'n_estimators': 300}\n",
            "0.799622 (0.035776) with: {'bootstrap': True, 'max_depth': 15, 'n_estimators': 400}\n",
            "0.798155 (0.035393) with: {'bootstrap': True, 'max_depth': 20, 'n_estimators': 200}\n",
            "0.798152 (0.035821) with: {'bootstrap': True, 'max_depth': 20, 'n_estimators': 300}\n",
            "0.799622 (0.035776) with: {'bootstrap': True, 'max_depth': 20, 'n_estimators': 400}\n",
            "0.786812 (0.032645) with: {'bootstrap': False, 'max_depth': 10, 'n_estimators': 200}\n",
            "0.787306 (0.031898) with: {'bootstrap': False, 'max_depth': 10, 'n_estimators': 300}\n",
            "0.788787 (0.032817) with: {'bootstrap': False, 'max_depth': 10, 'n_estimators': 400}\n",
            "0.788290 (0.029470) with: {'bootstrap': False, 'max_depth': 15, 'n_estimators': 200}\n",
            "0.788290 (0.029470) with: {'bootstrap': False, 'max_depth': 15, 'n_estimators': 300}\n",
            "0.787796 (0.029699) with: {'bootstrap': False, 'max_depth': 15, 'n_estimators': 400}\n",
            "0.789281 (0.030538) with: {'bootstrap': False, 'max_depth': 20, 'n_estimators': 200}\n",
            "0.789771 (0.031252) with: {'bootstrap': False, 'max_depth': 20, 'n_estimators': 300}\n",
            "0.789771 (0.031252) with: {'bootstrap': False, 'max_depth': 20, 'n_estimators': 400}\n"
          ],
          "name": "stdout"
        }
      ]
    }
  ]
}